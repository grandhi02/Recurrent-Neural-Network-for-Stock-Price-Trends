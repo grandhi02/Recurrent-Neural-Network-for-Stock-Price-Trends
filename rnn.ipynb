{
 "cells": [
  {
   "cell_type": "markdown",
   "metadata": {
    "colab_type": "text",
    "id": "xpAuMVCwfWs8"
   },
   "source": [
    "# Recurrent Neural Network"
   ]
  },
  {
   "cell_type": "markdown",
   "metadata": {
    "colab_type": "text",
    "id": "nxJfRe4bfYVA"
   },
   "source": [
    "## Data Preprocessing"
   ]
  },
  {
   "cell_type": "markdown",
   "metadata": {
    "colab_type": "text",
    "id": "ir9zwETrfbrp"
   },
   "source": [
    "### Importing the libraries"
   ]
  },
  {
   "cell_type": "code",
   "execution_count": 1,
   "metadata": {
    "colab": {},
    "colab_type": "code",
    "id": "ZT1f24vHffuf"
   },
   "outputs": [],
   "source": [
    "import numpy as np\n",
    "import matplotlib.pyplot as plt\n",
    "import pandas as pd"
   ]
  },
  {
   "cell_type": "markdown",
   "metadata": {
    "colab_type": "text",
    "id": "nQ47JAxrgmaL"
   },
   "source": [
    "### Importing the training set"
   ]
  },
  {
   "cell_type": "code",
   "execution_count": 43,
   "metadata": {
    "colab": {},
    "colab_type": "code",
    "id": "1xiv3pJOgqY3"
   },
   "outputs": [
    {
     "data": {
      "text/html": [
       "<div>\n",
       "<style scoped>\n",
       "    .dataframe tbody tr th:only-of-type {\n",
       "        vertical-align: middle;\n",
       "    }\n",
       "\n",
       "    .dataframe tbody tr th {\n",
       "        vertical-align: top;\n",
       "    }\n",
       "\n",
       "    .dataframe thead th {\n",
       "        text-align: right;\n",
       "    }\n",
       "</style>\n",
       "<table border=\"1\" class=\"dataframe\">\n",
       "  <thead>\n",
       "    <tr style=\"text-align: right;\">\n",
       "      <th></th>\n",
       "      <th>Open</th>\n",
       "      <th>High</th>\n",
       "      <th>Low</th>\n",
       "    </tr>\n",
       "  </thead>\n",
       "  <tbody>\n",
       "    <tr>\n",
       "      <th>count</th>\n",
       "      <td>1258.000000</td>\n",
       "      <td>1258.000000</td>\n",
       "      <td>1258.000000</td>\n",
       "    </tr>\n",
       "    <tr>\n",
       "      <th>mean</th>\n",
       "      <td>533.709833</td>\n",
       "      <td>537.880223</td>\n",
       "      <td>529.007409</td>\n",
       "    </tr>\n",
       "    <tr>\n",
       "      <th>std</th>\n",
       "      <td>151.904442</td>\n",
       "      <td>153.008811</td>\n",
       "      <td>150.552807</td>\n",
       "    </tr>\n",
       "    <tr>\n",
       "      <th>min</th>\n",
       "      <td>279.120000</td>\n",
       "      <td>281.210000</td>\n",
       "      <td>277.220000</td>\n",
       "    </tr>\n",
       "    <tr>\n",
       "      <th>25%</th>\n",
       "      <td>404.115000</td>\n",
       "      <td>406.765000</td>\n",
       "      <td>401.765000</td>\n",
       "    </tr>\n",
       "    <tr>\n",
       "      <th>50%</th>\n",
       "      <td>537.470000</td>\n",
       "      <td>540.750000</td>\n",
       "      <td>532.990000</td>\n",
       "    </tr>\n",
       "    <tr>\n",
       "      <th>75%</th>\n",
       "      <td>654.922500</td>\n",
       "      <td>662.587500</td>\n",
       "      <td>644.800000</td>\n",
       "    </tr>\n",
       "    <tr>\n",
       "      <th>max</th>\n",
       "      <td>816.680000</td>\n",
       "      <td>816.680000</td>\n",
       "      <td>805.140000</td>\n",
       "    </tr>\n",
       "  </tbody>\n",
       "</table>\n",
       "</div>"
      ],
      "text/plain": [
       "              Open         High          Low\n",
       "count  1258.000000  1258.000000  1258.000000\n",
       "mean    533.709833   537.880223   529.007409\n",
       "std     151.904442   153.008811   150.552807\n",
       "min     279.120000   281.210000   277.220000\n",
       "25%     404.115000   406.765000   401.765000\n",
       "50%     537.470000   540.750000   532.990000\n",
       "75%     654.922500   662.587500   644.800000\n",
       "max     816.680000   816.680000   805.140000"
      ]
     },
     "execution_count": 43,
     "metadata": {},
     "output_type": "execute_result"
    }
   ],
   "source": [
    "dataset_train = pd.read_csv('Google_Stock_Price_Train.csv')\n",
    "dataset_train.describe()"
   ]
  },
  {
   "cell_type": "code",
   "execution_count": 44,
   "metadata": {
    "colab": {},
    "colab_type": "code",
    "id": "1xiv3pJOgqY3"
   },
   "outputs": [
    {
     "data": {
      "text/html": [
       "<div>\n",
       "<style scoped>\n",
       "    .dataframe tbody tr th:only-of-type {\n",
       "        vertical-align: middle;\n",
       "    }\n",
       "\n",
       "    .dataframe tbody tr th {\n",
       "        vertical-align: top;\n",
       "    }\n",
       "\n",
       "    .dataframe thead th {\n",
       "        text-align: right;\n",
       "    }\n",
       "</style>\n",
       "<table border=\"1\" class=\"dataframe\">\n",
       "  <thead>\n",
       "    <tr style=\"text-align: right;\">\n",
       "      <th></th>\n",
       "      <th>Date</th>\n",
       "      <th>Open</th>\n",
       "      <th>High</th>\n",
       "      <th>Low</th>\n",
       "      <th>Close</th>\n",
       "      <th>Volume</th>\n",
       "    </tr>\n",
       "  </thead>\n",
       "  <tbody>\n",
       "    <tr>\n",
       "      <th>0</th>\n",
       "      <td>1/3/2012</td>\n",
       "      <td>325.25</td>\n",
       "      <td>332.83</td>\n",
       "      <td>324.97</td>\n",
       "      <td>663.59</td>\n",
       "      <td>7,380,500</td>\n",
       "    </tr>\n",
       "    <tr>\n",
       "      <th>1</th>\n",
       "      <td>1/4/2012</td>\n",
       "      <td>331.27</td>\n",
       "      <td>333.87</td>\n",
       "      <td>329.08</td>\n",
       "      <td>666.45</td>\n",
       "      <td>5,749,400</td>\n",
       "    </tr>\n",
       "    <tr>\n",
       "      <th>2</th>\n",
       "      <td>1/5/2012</td>\n",
       "      <td>329.83</td>\n",
       "      <td>330.75</td>\n",
       "      <td>326.89</td>\n",
       "      <td>657.21</td>\n",
       "      <td>6,590,300</td>\n",
       "    </tr>\n",
       "    <tr>\n",
       "      <th>3</th>\n",
       "      <td>1/6/2012</td>\n",
       "      <td>328.34</td>\n",
       "      <td>328.77</td>\n",
       "      <td>323.68</td>\n",
       "      <td>648.24</td>\n",
       "      <td>5,405,900</td>\n",
       "    </tr>\n",
       "    <tr>\n",
       "      <th>4</th>\n",
       "      <td>1/9/2012</td>\n",
       "      <td>322.04</td>\n",
       "      <td>322.29</td>\n",
       "      <td>309.46</td>\n",
       "      <td>620.76</td>\n",
       "      <td>11,688,800</td>\n",
       "    </tr>\n",
       "  </tbody>\n",
       "</table>\n",
       "</div>"
      ],
      "text/plain": [
       "       Date    Open    High     Low   Close      Volume\n",
       "0  1/3/2012  325.25  332.83  324.97  663.59   7,380,500\n",
       "1  1/4/2012  331.27  333.87  329.08  666.45   5,749,400\n",
       "2  1/5/2012  329.83  330.75  326.89  657.21   6,590,300\n",
       "3  1/6/2012  328.34  328.77  323.68  648.24   5,405,900\n",
       "4  1/9/2012  322.04  322.29  309.46  620.76  11,688,800"
      ]
     },
     "execution_count": 44,
     "metadata": {},
     "output_type": "execute_result"
    }
   ],
   "source": [
    "dataset_train.head()"
   ]
  },
  {
   "cell_type": "code",
   "execution_count": 21,
   "metadata": {
    "colab": {},
    "colab_type": "code",
    "id": "1xiv3pJOgqY3"
   },
   "outputs": [
    {
     "data": {
      "text/plain": [
       "Date      0\n",
       "Open      0\n",
       "High      0\n",
       "Low       0\n",
       "Close     0\n",
       "Volume    0\n",
       "dtype: int64"
      ]
     },
     "execution_count": 21,
     "metadata": {},
     "output_type": "execute_result"
    }
   ],
   "source": [
    "dataset_train.isnull().sum()\n",
    "#there are no missing values\n",
    "# if we have any missing values,we have to use any standard scaler to fill the missing values"
   ]
  },
  {
   "cell_type": "code",
   "execution_count": 91,
   "metadata": {
    "colab": {},
    "colab_type": "code",
    "id": "1xiv3pJOgqY3"
   },
   "outputs": [
    {
     "name": "stdout",
     "output_type": "stream",
     "text": [
      "<class 'pandas.core.frame.DataFrame'>\n",
      "<class 'numpy.ndarray'>\n"
     ]
    }
   ],
   "source": [
    "training_set = dataset_train.iloc[:, 1:3]\n",
    "print(type(training_set))\n",
    "training_set = dataset_train.iloc[:, 1:3].values\n",
    "print(type(training_set))\n",
    "# to get a numpy array,we use iloc.values\n",
    "# we are selecting the second column of datframe"
   ]
  },
  {
   "cell_type": "markdown",
   "metadata": {
    "colab_type": "text",
    "id": "HT8_2UJegtG5"
   },
   "source": [
    "### Feature Scaling"
   ]
  },
  {
   "cell_type": "markdown",
   "metadata": {},
   "source": [
    "### minmax scaler=(x-min)/(max-min)"
   ]
  },
  {
   "cell_type": "code",
   "execution_count": 92,
   "metadata": {
    "colab": {},
    "colab_type": "code",
    "id": "OTrF2kR7gx9x"
   },
   "outputs": [
    {
     "data": {
      "text/plain": [
       "array([[0.08581368, 0.09640129],\n",
       "       [0.09701243, 0.09834351],\n",
       "       [0.09433366, 0.09251685],\n",
       "       ...,\n",
       "       [0.95725128, 0.95807422],\n",
       "       [0.93796041, 0.94257381],\n",
       "       [0.93688146, 0.93669113]])"
      ]
     },
     "execution_count": 92,
     "metadata": {},
     "output_type": "execute_result"
    }
   ],
   "source": [
    "from sklearn.preprocessing import MinMaxScaler\n",
    "sc = MinMaxScaler(feature_range = (0, 1))\n",
    "training_set_scaled = sc.fit_transform(training_set)\n",
    "# fit takes data as argument and transform method alters every row in to normalised one\n",
    "# we have gib=ven a new name so as not to change the original datset\n",
    "training_set_scaled"
   ]
  },
  {
   "cell_type": "markdown",
   "metadata": {
    "colab_type": "text",
    "id": "JyYgYocqhNUg"
   },
   "source": [
    "### Creating a data structure with 60 timesteps and 1 output"
   ]
  },
  {
   "cell_type": "markdown",
   "metadata": {},
   "source": [
    "#### we have to create a data structure so that RNN knows what need to remember"
   ]
  },
  {
   "cell_type": "markdown",
   "metadata": {},
   "source": [
    "#### we need to get right number of steps as wrong number steps lead to overfitting and non-sense predictions\n",
    "#### here 60 means that the RNN learns from 60 previous stock prices and understand some correlations and based on its understanding,it predicts the output"
   ]
  },
  {
   "cell_type": "code",
   "execution_count": 93,
   "metadata": {
    "colab": {},
    "colab_type": "code",
    "id": "iofU21B0i6ST"
   },
   "outputs": [
    {
     "name": "stdout",
     "output_type": "stream",
     "text": [
      "(1198, 60)\n"
     ]
    }
   ],
   "source": [
    "# for each day,x_train will contain 60 previous stock prices before the given day \n",
    "# y_train contain the output for that day\n",
    "X_train = []\n",
    "y_train = []\n",
    "for i in range(60, 1258):\n",
    "    X_train.append(training_set_scaled[i-60:i, 0])\n",
    "    y_train.append(training_set_scaled[i, 0])\n",
    "X_train, y_train = np.array(X_train), np.array(y_train)\n",
    "print(X_train.shape)"
   ]
  },
  {
   "cell_type": "markdown",
   "metadata": {
    "colab_type": "text",
    "id": "D8yaN7Zvi95l"
   },
   "source": [
    "### Reshaping"
   ]
  },
  {
   "cell_type": "code",
   "execution_count": 94,
   "metadata": {
    "colab": {},
    "colab_type": "code",
    "id": "FOXqJHmNjBkz"
   },
   "outputs": [
    {
     "data": {
      "text/plain": [
       "60"
      ]
     },
     "execution_count": 94,
     "metadata": {},
     "output_type": "execute_result"
    }
   ],
   "source": [
    "X_train = X_train.reshape(X_train.shape[0], X_train.shape[1], 1)\n",
    "# here reshape should have (a,b,c) where a--no of rows,,,b----no of timesteps\n",
    "# we have to convert to a 3d shape\n",
    "X_train.shape[1]"
   ]
  },
  {
   "cell_type": "markdown",
   "metadata": {
    "colab_type": "text",
    "id": "ZRRSOJeVjEWV"
   },
   "source": [
    "## Building and Training the RNN"
   ]
  },
  {
   "cell_type": "markdown",
   "metadata": {
    "colab_type": "text",
    "id": "k4XV88JMjHXG"
   },
   "source": [
    "### Importing the Keras libraries and packages"
   ]
  },
  {
   "cell_type": "code",
   "execution_count": 95,
   "metadata": {
    "colab": {
     "base_uri": "https://localhost:8080/",
     "height": 34
    },
    "colab_type": "code",
    "id": "9JRnqsxEjKsD",
    "outputId": "b3e23e78-18aa-4396-c923-c877b8de60e4"
   },
   "outputs": [],
   "source": [
    "from keras.models import Sequential\n",
    "from keras.layers import Dense\n",
    "from keras.layers import LSTM\n",
    "from keras.layers import Dropout\n",
    "# here we built stacked LSTM(here we have 4 LSTM layers) with dropout to remove overfitting"
   ]
  },
  {
   "cell_type": "markdown",
   "metadata": {
    "colab_type": "text",
    "id": "FEIE-1s9jNzC"
   },
   "source": [
    "### Initialising the RNN"
   ]
  },
  {
   "cell_type": "code",
   "execution_count": 96,
   "metadata": {
    "colab": {},
    "colab_type": "code",
    "id": "1338dJ0UjRKH"
   },
   "outputs": [],
   "source": [
    "regressor = Sequential()\n",
    "# we use regression as we get a continuous output"
   ]
  },
  {
   "cell_type": "markdown",
   "metadata": {
    "colab_type": "text",
    "id": "62eg1OPGjT8z"
   },
   "source": [
    "### Adding the first LSTM layer and some Dropout regularisation"
   ]
  },
  {
   "cell_type": "code",
   "execution_count": 97,
   "metadata": {
    "colab": {},
    "colab_type": "code",
    "id": "2hIinyXUjbVU"
   },
   "outputs": [],
   "source": [
    "regressor.add(LSTM(units = 50, return_sequences = True, input_shape = (X_train.shape[1], 1)))\n",
    "# units---it tells how many LSTM units are there in this Layer\n",
    "# more the  value of units(ie no of neurons),more the accuracy and dimensionality\n",
    "# return_sequences ----as we have Stacked LSTM layer.When we add another LSTM layer after the one you create after\n",
    "#input_shape should be in 2D as no of rows are already taken by default\n",
    "regressor.add(Dropout(0.2))  #0.2 is rate in shich we ignore the neurons in layers"
   ]
  },
  {
   "cell_type": "markdown",
   "metadata": {
    "colab_type": "text",
    "id": "3XBIYLyOjlMx"
   },
   "source": [
    "### Adding a second LSTM layer and some Dropout regularisation"
   ]
  },
  {
   "cell_type": "code",
   "execution_count": 98,
   "metadata": {
    "colab": {},
    "colab_type": "code",
    "id": "UG7nrVaSjuZ2"
   },
   "outputs": [],
   "source": [
    "# from here onwards, we need not specify the input_shape\n",
    "regressor.add(LSTM(units = 50, return_sequences = True))\n",
    "regressor.add(Dropout(0.2))"
   ]
  },
  {
   "cell_type": "markdown",
   "metadata": {
    "colab_type": "text",
    "id": "Ey3fHVnGj1cu"
   },
   "source": [
    "### Adding a third LSTM layer and some Dropout regularisation"
   ]
  },
  {
   "cell_type": "code",
   "execution_count": 99,
   "metadata": {
    "colab": {},
    "colab_type": "code",
    "id": "PuNi6PgFj7jO"
   },
   "outputs": [],
   "source": [
    "regressor.add(LSTM(units = 50, return_sequences = True))\n",
    "regressor.add(Dropout(0.2))"
   ]
  },
  {
   "cell_type": "markdown",
   "metadata": {
    "colab_type": "text",
    "id": "SYTrtfTmj933"
   },
   "source": [
    "### Adding a fourth LSTM layer and some Dropout regularisation"
   ]
  },
  {
   "cell_type": "code",
   "execution_count": 100,
   "metadata": {
    "colab": {},
    "colab_type": "code",
    "id": "Jp4Ty8fRkBYV"
   },
   "outputs": [],
   "source": [
    "# this is the final LSTM layer\n",
    "regressor.add(LSTM(units = 50))\n",
    "# return_sequence --is not used as by default its value is False..so we wont add another LSTM layer later on\n",
    "regressor.add(Dropout(0.2))"
   ]
  },
  {
   "cell_type": "markdown",
   "metadata": {
    "colab_type": "text",
    "id": "9ABI6rOIkHhk"
   },
   "source": [
    "### Adding the output layer"
   ]
  },
  {
   "cell_type": "code",
   "execution_count": 101,
   "metadata": {
    "colab": {},
    "colab_type": "code",
    "id": "aM6R1z4WkME8"
   },
   "outputs": [],
   "source": [
    "# we add a fully connected layer as output has only fully connected layer\n",
    "regressor.add(Dense(units = 1)) # units=1(no of neurons in output layer) as we have only need one prdicted output"
   ]
  },
  {
   "cell_type": "markdown",
   "metadata": {
    "colab_type": "text",
    "id": "zLx4K7uUkPSh"
   },
   "source": [
    "### Compiling the RNN"
   ]
  },
  {
   "cell_type": "code",
   "execution_count": 102,
   "metadata": {
    "colab": {},
    "colab_type": "code",
    "id": "XTrhVN-tkbko"
   },
   "outputs": [],
   "source": [
    "regressor.compile(optimizer = 'adam', loss = 'mean_squared_error')\n",
    "# loss=binary_crossentropy needed for only classification\n",
    "# here our pblm is a continous,so we use MSE"
   ]
  },
  {
   "cell_type": "markdown",
   "metadata": {
    "colab_type": "text",
    "id": "-mPhwKGkkebi"
   },
   "source": [
    "### Fitting the RNN to the Training set"
   ]
  },
  {
   "cell_type": "code",
   "execution_count": 142,
   "metadata": {
    "colab": {
     "base_uri": "https://localhost:8080/",
     "height": 1000
    },
    "colab_type": "code",
    "id": "I06Nkrz5kkb-",
    "outputId": "dc9d947a-4d5c-4dbc-ed45-31bf44b98dfb",
    "scrolled": true
   },
   "outputs": [
    {
     "name": "stdout",
     "output_type": "stream",
     "text": [
      "Epoch 1/100\n",
      "38/38 [==============================] - 7s 174ms/step - loss: 0.0021\n",
      "Epoch 2/100\n",
      "38/38 [==============================] - 6s 165ms/step - loss: 0.0023\n",
      "Epoch 3/100\n",
      "38/38 [==============================] - 6s 166ms/step - loss: 0.0025\n",
      "Epoch 4/100\n",
      "38/38 [==============================] - 6s 170ms/step - loss: 0.0022\n",
      "Epoch 5/100\n",
      "38/38 [==============================] - 6s 166ms/step - loss: 0.0019\n",
      "Epoch 6/100\n",
      "38/38 [==============================] - 6s 170ms/step - loss: 0.0020\n",
      "Epoch 7/100\n",
      "38/38 [==============================] - 7s 172ms/step - loss: 0.0019\n",
      "Epoch 8/100\n",
      "38/38 [==============================] - 7s 172ms/step - loss: 0.0020\n",
      "Epoch 9/100\n",
      "38/38 [==============================] - 6s 168ms/step - loss: 0.0019\n",
      "Epoch 10/100\n",
      "38/38 [==============================] - 6s 165ms/step - loss: 0.0019\n",
      "Epoch 11/100\n",
      "38/38 [==============================] - 6s 165ms/step - loss: 0.0018\n",
      "Epoch 12/100\n",
      "38/38 [==============================] - 6s 166ms/step - loss: 0.0018\n",
      "Epoch 13/100\n",
      "38/38 [==============================] - 6s 165ms/step - loss: 0.0017\n",
      "Epoch 14/100\n",
      "38/38 [==============================] - 6s 162ms/step - loss: 0.0018\n",
      "Epoch 15/100\n",
      "38/38 [==============================] - 6s 168ms/step - loss: 0.0017\n",
      "Epoch 16/100\n",
      "38/38 [==============================] - 6s 160ms/step - loss: 0.0017\n",
      "Epoch 17/100\n",
      "38/38 [==============================] - 6s 164ms/step - loss: 0.0018\n",
      "Epoch 18/100\n",
      "38/38 [==============================] - 6s 163ms/step - loss: 0.0017\n",
      "Epoch 19/100\n",
      "38/38 [==============================] - 6s 165ms/step - loss: 0.0017\n",
      "Epoch 20/100\n",
      "38/38 [==============================] - 6s 170ms/step - loss: 0.0016\n",
      "Epoch 21/100\n",
      "38/38 [==============================] - 6s 170ms/step - loss: 0.0017\n",
      "Epoch 22/100\n",
      "38/38 [==============================] - 6s 167ms/step - loss: 0.0018\n",
      "Epoch 23/100\n",
      "38/38 [==============================] - 6s 170ms/step - loss: 0.0016\n",
      "Epoch 24/100\n",
      "38/38 [==============================] - 6s 170ms/step - loss: 0.0017\n",
      "Epoch 25/100\n",
      "38/38 [==============================] - 6s 170ms/step - loss: 0.0017\n",
      "Epoch 26/100\n",
      "38/38 [==============================] - 6s 171ms/step - loss: 0.0014\n",
      "Epoch 27/100\n",
      "38/38 [==============================] - 7s 172ms/step - loss: 0.0016\n",
      "Epoch 28/100\n",
      "38/38 [==============================] - 6s 162ms/step - loss: 0.0016\n",
      "Epoch 29/100\n",
      "38/38 [==============================] - 6s 166ms/step - loss: 0.0014\n",
      "Epoch 30/100\n",
      "38/38 [==============================] - 6s 170ms/step - loss: 0.0016\n",
      "Epoch 31/100\n",
      "38/38 [==============================] - 7s 171ms/step - loss: 0.0017\n",
      "Epoch 32/100\n",
      "38/38 [==============================] - 7s 171ms/step - loss: 0.0015\n",
      "Epoch 33/100\n",
      "38/38 [==============================] - 6s 170ms/step - loss: 0.0017\n",
      "Epoch 34/100\n",
      "38/38 [==============================] - 6s 169ms/step - loss: 0.0015\n",
      "Epoch 35/100\n",
      "38/38 [==============================] - 6s 170ms/step - loss: 0.0015\n",
      "Epoch 36/100\n",
      "38/38 [==============================] - 6s 168ms/step - loss: 0.0014\n",
      "Epoch 37/100\n",
      "38/38 [==============================] - 6s 168ms/step - loss: 0.0015\n",
      "Epoch 38/100\n",
      "38/38 [==============================] - 6s 170ms/step - loss: 0.0015\n",
      "Epoch 39/100\n",
      "38/38 [==============================] - 6s 166ms/step - loss: 0.0014\n",
      "Epoch 40/100\n",
      "38/38 [==============================] - 6s 164ms/step - loss: 0.0015\n",
      "Epoch 41/100\n",
      "38/38 [==============================] - 6s 170ms/step - loss: 0.0014\n",
      "Epoch 42/100\n",
      "38/38 [==============================] - 6s 167ms/step - loss: 0.0014\n",
      "Epoch 43/100\n",
      "38/38 [==============================] - 6s 163ms/step - loss: 0.0013\n",
      "Epoch 44/100\n",
      "38/38 [==============================] - 6s 166ms/step - loss: 0.0015 1s - l\n",
      "Epoch 45/100\n",
      "38/38 [==============================] - 6s 170ms/step - loss: 0.0015\n",
      "Epoch 46/100\n",
      "38/38 [==============================] - 6s 162ms/step - loss: 0.0013 1s -\n",
      "Epoch 47/100\n",
      "38/38 [==============================] - 7s 171ms/step - loss: 0.0014\n",
      "Epoch 48/100\n",
      "38/38 [==============================] - 6s 161ms/step - loss: 0.0013\n",
      "Epoch 49/100\n",
      "38/38 [==============================] - 6s 163ms/step - loss: 0.0012\n",
      "Epoch 50/100\n",
      "38/38 [==============================] - 6s 166ms/step - loss: 0.0013\n",
      "Epoch 51/100\n",
      "38/38 [==============================] - 6s 154ms/step - loss: 0.0014\n",
      "Epoch 52/100\n",
      "38/38 [==============================] - 6s 160ms/step - loss: 0.0013\n",
      "Epoch 53/100\n",
      "38/38 [==============================] - 6s 160ms/step - loss: 0.0012\n",
      "Epoch 54/100\n",
      "38/38 [==============================] - 6s 167ms/step - loss: 0.0013\n",
      "Epoch 55/100\n",
      "38/38 [==============================] - 6s 168ms/step - loss: 0.0014\n",
      "Epoch 56/100\n",
      "38/38 [==============================] - 6s 168ms/step - loss: 0.0013\n",
      "Epoch 57/100\n",
      "38/38 [==============================] - 6s 167ms/step - loss: 0.0012\n",
      "Epoch 58/100\n",
      "38/38 [==============================] - 6s 163ms/step - loss: 0.0011\n",
      "Epoch 59/100\n",
      "38/38 [==============================] - 6s 169ms/step - loss: 0.0012\n",
      "Epoch 60/100\n",
      "38/38 [==============================] - 6s 168ms/step - loss: 0.0012\n",
      "Epoch 61/100\n",
      "38/38 [==============================] - 6s 162ms/step - loss: 0.0011\n",
      "Epoch 62/100\n",
      "38/38 [==============================] - 6s 163ms/step - loss: 0.0013\n",
      "Epoch 63/100\n",
      "38/38 [==============================] - 6s 161ms/step - loss: 0.0012\n",
      "Epoch 64/100\n",
      "38/38 [==============================] - 6s 161ms/step - loss: 0.0011\n",
      "Epoch 65/100\n",
      "38/38 [==============================] - 6s 160ms/step - loss: 0.0012\n",
      "Epoch 66/100\n",
      "38/38 [==============================] - 6s 165ms/step - loss: 0.0011\n",
      "Epoch 67/100\n",
      "38/38 [==============================] - 6s 162ms/step - loss: 0.0012\n",
      "Epoch 68/100\n",
      "38/38 [==============================] - 6s 166ms/step - loss: 0.0012\n",
      "Epoch 69/100\n",
      "38/38 [==============================] - 6s 166ms/step - loss: 0.0013\n",
      "Epoch 70/100\n",
      "38/38 [==============================] - 6s 166ms/step - loss: 0.0012\n",
      "Epoch 71/100\n",
      "38/38 [==============================] - 6s 166ms/step - loss: 0.0010\n",
      "Epoch 72/100\n",
      "38/38 [==============================] - 6s 164ms/step - loss: 0.0012\n",
      "Epoch 73/100\n",
      "38/38 [==============================] - 6s 169ms/step - loss: 0.0012\n",
      "Epoch 74/100\n",
      "38/38 [==============================] - 6s 166ms/step - loss: 0.0012\n",
      "Epoch 75/100\n",
      "38/38 [==============================] - 6s 164ms/step - loss: 0.0011\n",
      "Epoch 76/100\n",
      "38/38 [==============================] - 6s 161ms/step - loss: 0.0014 0s - loss: 0.0\n",
      "Epoch 77/100\n",
      "38/38 [==============================] - 6s 164ms/step - loss: 0.0012\n",
      "Epoch 78/100\n",
      "38/38 [==============================] - 6s 166ms/step - loss: 0.0010\n",
      "Epoch 79/100\n",
      "38/38 [==============================] - 6s 161ms/step - loss: 0.0012\n",
      "Epoch 80/100\n",
      "38/38 [==============================] - 6s 162ms/step - loss: 0.0010\n",
      "Epoch 81/100\n",
      "38/38 [==============================] - 6s 165ms/step - loss: 0.0012\n",
      "Epoch 82/100\n",
      "38/38 [==============================] - 6s 164ms/step - loss: 0.0010\n",
      "Epoch 83/100\n",
      "38/38 [==============================] - 6s 165ms/step - loss: 0.0011\n",
      "Epoch 84/100\n",
      "38/38 [==============================] - 6s 169ms/step - loss: 9.8127e-04\n",
      "Epoch 85/100\n",
      "38/38 [==============================] - 6s 166ms/step - loss: 0.0011\n",
      "Epoch 86/100\n",
      "38/38 [==============================] - 6s 159ms/step - loss: 0.0010\n",
      "Epoch 87/100\n",
      "38/38 [==============================] - 6s 162ms/step - loss: 0.0012\n",
      "Epoch 88/100\n",
      "38/38 [==============================] - 6s 160ms/step - loss: 0.0013\n",
      "Epoch 89/100\n",
      "38/38 [==============================] - 6s 161ms/step - loss: 0.0011\n",
      "Epoch 90/100\n",
      "38/38 [==============================] - 6s 164ms/step - loss: 0.0011\n",
      "Epoch 91/100\n",
      "38/38 [==============================] - 6s 167ms/step - loss: 0.0016\n",
      "Epoch 92/100\n",
      "38/38 [==============================] - 6s 167ms/step - loss: 0.0013\n",
      "Epoch 93/100\n",
      "38/38 [==============================] - 6s 164ms/step - loss: 0.0010\n",
      "Epoch 94/100\n",
      "38/38 [==============================] - 6s 169ms/step - loss: 0.0011\n",
      "Epoch 95/100\n",
      "38/38 [==============================] - 6s 166ms/step - loss: 9.7489e-04\n",
      "Epoch 96/100\n",
      "38/38 [==============================] - 7s 171ms/step - loss: 0.0011\n",
      "Epoch 97/100\n",
      "38/38 [==============================] - 6s 171ms/step - loss: 0.0011\n",
      "Epoch 98/100\n",
      "38/38 [==============================] - 6s 163ms/step - loss: 9.8538e-04\n",
      "Epoch 99/100\n",
      "38/38 [==============================] - 6s 168ms/step - loss: 0.0011\n",
      "Epoch 100/100\n",
      "38/38 [==============================] - 6s 168ms/step - loss: 0.0011\n"
     ]
    },
    {
     "data": {
      "text/plain": [
       "<tensorflow.python.keras.callbacks.History at 0x1c51818b828>"
      ]
     },
     "execution_count": 142,
     "metadata": {},
     "output_type": "execute_result"
    }
   ],
   "source": [
    "regressor.fit(X_train, y_train, epochs = 100, batch_size = 32)"
   ]
  },
  {
   "cell_type": "markdown",
   "metadata": {
    "colab_type": "text",
    "id": "4hRau_lIkrE8"
   },
   "source": [
    "## Making the predictions and visualising the results"
   ]
  },
  {
   "cell_type": "markdown",
   "metadata": {
    "colab_type": "text",
    "id": "SgJO6qEDksxD"
   },
   "source": [
    "### Getting the real stock price of 2017"
   ]
  },
  {
   "cell_type": "code",
   "execution_count": 170,
   "metadata": {
    "colab": {},
    "colab_type": "code",
    "id": "FmBT2zqukxTz"
   },
   "outputs": [
    {
     "data": {
      "text/html": [
       "<div>\n",
       "<style scoped>\n",
       "    .dataframe tbody tr th:only-of-type {\n",
       "        vertical-align: middle;\n",
       "    }\n",
       "\n",
       "    .dataframe tbody tr th {\n",
       "        vertical-align: top;\n",
       "    }\n",
       "\n",
       "    .dataframe thead th {\n",
       "        text-align: right;\n",
       "    }\n",
       "</style>\n",
       "<table border=\"1\" class=\"dataframe\">\n",
       "  <thead>\n",
       "    <tr style=\"text-align: right;\">\n",
       "      <th></th>\n",
       "      <th>Open</th>\n",
       "      <th>High</th>\n",
       "    </tr>\n",
       "  </thead>\n",
       "  <tbody>\n",
       "    <tr>\n",
       "      <th>0</th>\n",
       "      <td>778.81</td>\n",
       "      <td>789.63</td>\n",
       "    </tr>\n",
       "    <tr>\n",
       "      <th>1</th>\n",
       "      <td>788.36</td>\n",
       "      <td>791.34</td>\n",
       "    </tr>\n",
       "    <tr>\n",
       "      <th>2</th>\n",
       "      <td>786.08</td>\n",
       "      <td>794.48</td>\n",
       "    </tr>\n",
       "    <tr>\n",
       "      <th>3</th>\n",
       "      <td>795.26</td>\n",
       "      <td>807.90</td>\n",
       "    </tr>\n",
       "    <tr>\n",
       "      <th>4</th>\n",
       "      <td>806.40</td>\n",
       "      <td>809.97</td>\n",
       "    </tr>\n",
       "  </tbody>\n",
       "</table>\n",
       "</div>"
      ],
      "text/plain": [
       "     Open    High\n",
       "0  778.81  789.63\n",
       "1  788.36  791.34\n",
       "2  786.08  794.48\n",
       "3  795.26  807.90\n",
       "4  806.40  809.97"
      ]
     },
     "execution_count": 170,
     "metadata": {},
     "output_type": "execute_result"
    }
   ],
   "source": [
    "dataset_test = pd.read_csv('Google_Stock_Price_Test.csv')\n",
    "real_stock_price = dataset_test.iloc[:, 1:3].values\n",
    "dataset_test.iloc[:,1:3].head()"
   ]
  },
  {
   "cell_type": "markdown",
   "metadata": {
    "colab_type": "text",
    "id": "GrvrLblxkz42"
   },
   "source": [
    "### Getting the predicted stock price of 2017"
   ]
  },
  {
   "cell_type": "code",
   "execution_count": 185,
   "metadata": {
    "colab": {},
    "colab_type": "code",
    "id": "emikTvUpk3Ck",
    "scrolled": true
   },
   "outputs": [
    {
     "name": "stdout",
     "output_type": "stream",
     "text": [
      "(138, 1)\n"
     ]
    }
   ],
   "source": [
    "# we need 60(timestep) size of previous rows are required to predict the the output for the latest day\n",
    "dataset_total = pd.concat((dataset_train.iloc[:,1:3], dataset_test.iloc[:,1:3]), axis = 0)\n",
    "inputs = dataset_total[len(dataset_total) - len(dataset_test) - 49:].values\n",
    "inputs = inputs.reshape(-1,1)\n",
    "print(inputs.shape)\n",
    "inputs = sc.fit_transform(inputs)\n",
    "# for above we need to reshape into a single column\n",
    "X_test = []\n",
    "for i in range(60, 80):\n",
    "    X_test.append(inputs[i-49:i, 0])\n",
    "X_test = np.array(X_test)\n",
    "X_test = np.reshape(X_test, (X_test.shape[0], X_test.shape[1], 1))\n",
    "predicted_stock_price = regressor.predict(X_test)\n",
    "# in above we scale the test values in b/w 0 and 1\n",
    "# so in order to get original values,we use inverse_transform method\n",
    "\n",
    "predicted_stock_price = sc.inverse_transform(predicted_stock_price)"
   ]
  },
  {
   "cell_type": "markdown",
   "metadata": {
    "colab_type": "text",
    "id": "iFTNs3YHk6FQ"
   },
   "source": [
    "### Visualising the results"
   ]
  },
  {
   "cell_type": "code",
   "execution_count": 188,
   "metadata": {
    "colab": {
     "base_uri": "https://localhost:8080/",
     "height": 295
    },
    "colab_type": "code",
    "id": "8OUI8U49k9tH",
    "outputId": "db0ed15e-071b-4bae-955e-0eda3df95238"
   },
   "outputs": [
    {
     "data": {
      "image/png": "[encoded data removed]",
      "text/plain": [
       "<Figure size 432x288 with 1 Axes>"
      ]
     },
     "metadata": {
      "needs_background": "light"
     },
     "output_type": "display_data"
    }
   ],
   "source": [
    "plt.plot(real_stock_price, color = 'red', label = 'Real_Google_Stock_Price')\n",
    "plt.plot(predicted_stock_price, color = 'blue', label = 'Predicted_Google_Stock_Price')\n",
    "plt.title('Google Stock Price Prediction')\n",
    "plt.xlabel('Time')\n",
    "plt.ylabel('Google Stock Price')\n",
    "plt.legend()\n",
    "plt.show()\n",
    "# stock price wont react for fast non linear changes\n",
    "# here we are only concerned with the trends i.e upper or lower trends\n",
    "\n",
    "# two red lines are \"Open\" And \"High\" columns\n",
    "## predicted price"
   ]
  },
  {
   "cell_type": "code",
   "execution_count": 149,
   "metadata": {},
   "outputs": [
    {
     "data": {
      "text/plain": [
       "array([[1],\n",
       "       [2],\n",
       "       [3],\n",
       "       [3],\n",
       "       [4],\n",
       "       [5]])"
      ]
     },
     "execution_count": 149,
     "metadata": {},
     "output_type": "execute_result"
    }
   ],
   "source": [
    "l=[[1,2,3],[3,4,5]]\n",
    "l=np.array(l)\n",
    "l.reshape(-1,1)"
   ]
  },
  {
   "cell_type": "markdown",
   "metadata": {},
   "source": [
    "## EVALUATION"
   ]
  },
  {
   "cell_type": "code",
   "execution_count": 212,
   "metadata": {},
   "outputs": [
    {
     "name": "stdout",
     "output_type": "stream",
     "text": [
      "27.87753843379978\n"
     ]
    }
   ],
   "source": [
    "import math\n",
    "from sklearn.metrics import mean_squared_error\n",
    "rmse=math.sqrt(mean_squared_error(real_stock_price,predicted_stock_price))\n",
    "print(rmse)\n",
    "#rmse indicates how closeness to real value and predicted value"
   ]
  },
  {
   "cell_type": "code",
   "execution_count": 197,
   "metadata": {},
   "outputs": [
    {
     "data": {
      "text/plain": [
       "(20, 20)"
      ]
     },
     "execution_count": 197,
     "metadata": {},
     "output_type": "execute_result"
    }
   ],
   "source": [
    "len(real_stock_price),len(predicted_stock_price)"
   ]
  },
  {
   "cell_type": "code",
   "execution_count": 215,
   "metadata": {},
   "outputs": [],
   "source": []
  },
  {
   "cell_type": "code",
   "execution_count": null,
   "metadata": {},
   "outputs": [],
   "source": []
  },
  {
   "cell_type": "code",
   "execution_count": null,
   "metadata": {},
   "outputs": [],
   "source": []
  }
 ],
 "metadata": {
  "colab": {
   "collapsed_sections": [],
   "name": "recurrent_neural_network.ipynb",
   "provenance": []
  },
  "kernelspec": {
   "display_name": "Python 3",
   "language": "python",
   "name": "python3"
  },
  "language_info": {
   "codemirror_mode": {
    "name": "ipython",
    "version": 3
   },
   "file_extension": ".py",
   "mimetype": "text/x-python",
   "name": "python",
   "nbconvert_exporter": "python",
   "pygments_lexer": "ipython3",
   "version": "3.7.3"
  }
 },
 "nbformat": 4,
 "nbformat_minor": 1
}
